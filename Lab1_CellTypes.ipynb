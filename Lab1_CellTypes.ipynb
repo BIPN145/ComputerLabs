{
 "cells": [
  {
   "cell_type": "markdown",
   "metadata": {},
   "source": [
    "# Lab1: Exploring cell types in human and mouse brains\n",
    "\n",
    "### The brain has thousands of different types of cells. How do we even begin to tease them apart?\n",
    "\n",
    "We can define neurons by their <b>gene expression patterns</b>, <b>electrophysiology features</b>, and <b>structure</b>. Here, we'll use those three features to compare and contrast cell types in humans and mice.\n",
    "\n",
    "This notebook will help us investigate specific features in the electrophysiology dataset from the Allen Brain Atlas. See <b>Technical Notes</b> at the end of this notebook for more information about working with the AllenSDK. This notebook is designed to be run after completing <a href=\"https://ajuavinett.github.io/CellTypesLesson/instructions\">this first activity</a>.\n",
    "\n",
    "### Table of Contents\n",
    "1. [Step 1. Importing Allen Cell Types Data](#one)\n",
    "2. [Step 2. Plotting electrophysiology data](#two)\n",
    "3. [Step 3. Plotting the morphology of the cell](#three)\n",
    "4. [Step 4. Analyze computed metrics](#four)\n",
    "5. [Step 5. Comparing human to mouse cells](#five)\n",
    "<hr>"
   ]
  },
  {
   "cell_type": "markdown",
   "metadata": {},
   "source": [
    "## Step 1. Learn about the dataset through a single experiment\n",
    "\n",
    "1. Go to http://celltypes.brain-map.org/. Read through “About Electrophysiology” and “About Morphology”, and answer **Q1** and **Q2** in the Assignment.<br><br>\n",
    "\n",
    "2. Scroll down to “Download Single Cell Data and Models” and the section “Morphology and Electrophysiology” and click on [Electrophysiology Page](http://celltypes.brain-map.org/experiment/electrophysiology/474626527). This page shows us all of the electrophysiology data for one sample cell that they have recorded from.<br><br>\n",
    "\n",
    "3. On the top, you’ll see a Mouse Line, Brain Area, and Layer where this cell comes from. The Mouse Line tells us the Cre-driver line that was used — in other words, the cells that they targeted had that gene, and therefore they also expressed Cre-recombinase. Go to https://www.ncbi.nlm.nih.gov/gene/and search for the name of this gene (without -Cre) to answer **Q3**.<br><br>\n",
    "\n",
    "4. Click through the stimulus sweeps (the colored boxes) to find the first one that elicited an action potential. Use this to answer **Q4**.\n",
    "    - _Note_: You should notice that this value is either very close or identical to the rheobase of the cell, as reported on the table on the top. As a reminder, the rheobase is defined as the minimum current needed to elicit an action potential. When the current is below the rheobase, an action potential will never occur regardless of how long the stimulation is.<br><br>\n",
    "    \n",
    "5. Click through to a stimulus sweep with a higher current injection. Does the cell adapt to the stimulus? In other words, does the space between spikes increase? Is there a metric here that would help quantify this? Answer **Q5**.<br><br>\n",
    "\n",
    "6. Use the dropdown menu on the left to change the stimulus type to “Short square.” Look at how the current injection trace changes – now, it’s a shorter pulse. Note the minimum current needed to elicit an action potential at this stimulus, and answer **Q6**.\n",
    "\n",
    "<hr>\n",
    "\n",
    "... as you can probably appreciate at this point, pulling all of this data off of the website manually is rather tedious. If we work directly with the dataset, we can get all of these metrics _and more_. So, let's do that."
   ]
  },
  {
   "cell_type": "markdown",
   "metadata": {},
   "source": [
    "<a id=\"two\"></a>\n",
    "## Step 2. Importing Allen Cell Types data\n",
    "First, we'll `import` the CellTypesCache module. This module provides tools to allow us to get information from the cell types database. We're giving it a **manifest** filename as well. CellTypesCache will create this manifest file, which contains metadata about the cache. If you want, you can look under cell_types in your Jupyter directory, and take a look at the file.\n",
    "\n",
    "<div class=\"alert alert-success\"><b>Task</b>: The cell below will grab the data (in the form of a Neuroscience Without Borders, NWB, file) for the same experiment you just looked at on the website. All you need to do is run the cell. This might take a minute or two. You should wait until the circle in the upper right is not filled to continue.</div>"
   ]
  },
  {
   "cell_type": "code",
   "execution_count": 1,
   "metadata": {},
   "outputs": [
    {
     "name": "stdout",
     "output_type": "stream",
     "text": [
      "Data retrieved\n"
     ]
    },
    {
     "name": "stderr",
     "output_type": "stream",
     "text": [
      "/opt/conda/lib/python3.6/site-packages/allensdk/core/nwb_data_set.py:108: H5pyDeprecationWarning: dataset.value has been deprecated. Use dataset[()] instead.\n",
      "  stimulus = stimulus_dataset.value\n",
      "/opt/conda/lib/python3.6/site-packages/allensdk/core/nwb_data_set.py:109: H5pyDeprecationWarning: dataset.value has been deprecated. Use dataset[()] instead.\n",
      "  response = swp['response']['timeseries']['data'].value\n",
      "/opt/conda/lib/python3.6/site-packages/allensdk/core/nwb_data_set.py:125: H5pyDeprecationWarning: dataset.value has been deprecated. Use dataset[()] instead.\n",
      "  swp_idx_start = swp['stimulus']['idx_start'].value\n",
      "/opt/conda/lib/python3.6/site-packages/allensdk/core/nwb_data_set.py:126: H5pyDeprecationWarning: dataset.value has been deprecated. Use dataset[()] instead.\n",
      "  swp_length = swp['stimulus']['count'].value\n",
      "/opt/conda/lib/python3.6/site-packages/allensdk/core/nwb_data_set.py:135: H5pyDeprecationWarning: dataset.value has been deprecated. Use dataset[()] instead.\n",
      "  exp_idx_start = exp['stimulus']['idx_start'].value\n",
      "/opt/conda/lib/python3.6/site-packages/allensdk/core/nwb_data_set.py:136: H5pyDeprecationWarning: dataset.value has been deprecated. Use dataset[()] instead.\n",
      "  exp_length = exp['stimulus']['count'].value\n"
     ]
    }
   ],
   "source": [
    "#Import the \"Cell Types Cache\" from the AllenSDK core package\n",
    "from allensdk.core.cell_types_cache import CellTypesCache\n",
    "\n",
    "#Initialize the cache as 'ctc' (cell types cache)\n",
    "ctc = CellTypesCache(manifest_file='cell_types/manifest.json')\n",
    "\n",
    "# Get the electrophysiology (ephys) data for that cell\n",
    "data = ctc.get_ephys_data(474626527)\n",
    "\n",
    "# Pull out one sweep with some spikes\n",
    "sweep_data = data.get_sweep(28) \n",
    "print('Data retrieved')"
   ]
  },
  {
   "cell_type": "markdown",
   "metadata": {},
   "source": [
    "<a id=\"three\"></a>\n",
    "## Step 3. Plotting electrophysiology data\n",
    "Now that you've pulled down some data, chosen a cell, and chosen a sweep number, let's plot the raw data.\n",
    "\n",
    "First, let's import and rename a few packages that we need to plot our data.\n",
    "\n",
    "<div class=\"alert alert-success\">\n",
    "    <b>Task</b>: Just like you did in the introductory lesson, import the <a href=\"https://www.numpy.org/\">numpy</a> toolbox nicknamed as <code>np</code>. Add a <code>print</code> message at the end that says \"Packages imported\" so that you know the code ran.</div>"
   ]
  },
  {
   "cell_type": "markdown",
   "metadata": {},
   "source": [
    "<a id=\"four\"></a>\n",
    "## Step 4. Analyze computed metrics\n",
    "\n",
    "The Cell Types Database contains a set of features that have already been computed, which could serve as good starting points for analysis. We can query the database to get these features. Let's first see which features are available."
   ]
  },
  {
   "cell_type": "code",
   "execution_count": 5,
   "metadata": {},
   "outputs": [
    {
     "name": "stdout",
     "output_type": "stream",
     "text": [
      "Ephys features available for 2333 cells:\n",
      "Index(['adaptation', 'avg_isi', 'electrode_0_pa', 'f_i_curve_slope',\n",
      "       'fast_trough_t_long_square', 'fast_trough_t_ramp',\n",
      "       'fast_trough_t_short_square', 'fast_trough_v_long_square',\n",
      "       'fast_trough_v_ramp', 'fast_trough_v_short_square', 'has_burst',\n",
      "       'has_delay', 'has_pause', 'id', 'input_resistance_mohm', 'latency',\n",
      "       'peak_t_long_square', 'peak_t_ramp', 'peak_t_short_square',\n",
      "       'peak_v_long_square', 'peak_v_ramp', 'peak_v_short_square',\n",
      "       'rheobase_sweep_id', 'rheobase_sweep_number', 'ri', 'sag', 'seal_gohm',\n",
      "       'slow_trough_t_long_square', 'slow_trough_t_ramp',\n",
      "       'slow_trough_t_short_square', 'slow_trough_v_long_square',\n",
      "       'slow_trough_v_ramp', 'slow_trough_v_short_square', 'specimen_id',\n",
      "       'tau', 'threshold_i_long_square', 'threshold_i_ramp',\n",
      "       'threshold_i_short_square', 'threshold_t_long_square',\n",
      "       'threshold_t_ramp', 'threshold_t_short_square',\n",
      "       'threshold_v_long_square', 'threshold_v_ramp',\n",
      "       'threshold_v_short_square', 'thumbnail_sweep_id',\n",
      "       'trough_t_long_square', 'trough_t_ramp', 'trough_t_short_square',\n",
      "       'trough_v_long_square', 'trough_v_ramp', 'trough_v_short_square',\n",
      "       'upstroke_downstroke_ratio_long_square',\n",
      "       'upstroke_downstroke_ratio_ramp',\n",
      "       'upstroke_downstroke_ratio_short_square', 'vm_for_sag', 'vrest'],\n",
      "      dtype='object')\n"
     ]
    }
   ],
   "source": [
    "# Import another useful package, called pandas\n",
    "import pandas as pd\n",
    "\n",
    "# Download all electrophysiology features for all cells\n",
    "ephys_features = ctc.get_ephys_features()\n",
    "ef_df = pd.DataFrame(ephys_features)\n",
    "\n",
    "print(\"Ephys features available for %d cells:\" % len(ef_df))\n",
    "print(ef_df.columns)"
   ]
  },
  {
   "cell_type": "markdown",
   "metadata": {},
   "source": [
    "This is a lot of possible features. Let's first look at the speed of the trough, and the ratio between the upstroke and downstroke of the action potential.\n",
    "![](https://github.com/ajuavinett/CellTypesLesson/blob/master/docs/ap_features.png?raw=true)\n",
    "<div style=\"background: #F3D48D; border-radius: 3px; padding: 10px;\">\n",
    "<b>Action potential fast trough (fast_trough_v_long_square)</b>: Minimum value of the membrane potential in the interval lasting 5 ms after the peak.\n",
    "\n",
    "<b>Upstroke/downstroke ratio (upstroke_downstroke_ratio_long_square)</b>: The ratio between the absolute values of the action potential peak upstroke and the action potential peak downstroke.</div> "
   ]
  },
  {
   "cell_type": "markdown",
   "metadata": {},
   "source": [
    "Above, we created a pandas dataframe of all of these features. Here, we'll assign the columns we're interested to two different variables. These variables now contain all of the datapoints we're interested in."
   ]
  },
  {
   "cell_type": "code",
   "execution_count": 6,
   "metadata": {},
   "outputs": [],
   "source": [
    "fast_trough = ef_df['fast_trough_v_long_square']\n",
    "upstroke_downstroke = ef_df['upstroke_downstroke_ratio_long_square']"
   ]
  },
  {
   "cell_type": "markdown",
   "metadata": {},
   "source": [
    "<div class=\"alert alert-success\">\n",
    "<b>Task:</b> Create a scatterplot that plots the fast trough (x axis) versus the upstroke-downstroke ratio (y axis). Label your axes accordingly. You'll also need this code for <b>Q7</b> on the assignment.\n",
    "\n",
    "<b>Hint</b>: Make sure you have the toolboxes you need!</div>"
   ]
  },
  {
   "cell_type": "code",
   "execution_count": 7,
   "metadata": {},
   "outputs": [
    {
     "data": {
      "image/png": "[encoded data removed]",
      "text/plain": [
       "<Figure size 432x288 with 1 Axes>"
      ]
     },
     "metadata": {
      "needs_background": "light"
     },
     "output_type": "display_data"
    }
   ],
   "source": [
    "# Your scatterplot here"
   ]
  },
  {
   "cell_type": "markdown",
   "metadata": {},
   "source": [
    "It looks like there may be roughly two clusters in the data above. Maybe they relate to whether the cells are presumably excitatory (spiny) cells or inhibitory (aspiny) cells. Let's query the API and split up the two sets to see.\n",
    "\n",
    "<div class=\"alert alert-success\">\n",
    "<b>Task:</b> Run the cell below.</div>"
   ]
  },
  {
   "cell_type": "code",
   "execution_count": 8,
   "metadata": {
    "scrolled": true
   },
   "outputs": [
    {
     "data": {
      "image/png": "[encoded data removed]",
      "text/plain": [
       "<Figure size 432x288 with 1 Axes>"
      ]
     },
     "metadata": {
      "needs_background": "light"
     },
     "output_type": "display_data"
    }
   ],
   "source": [
    "cells = ctc.get_cells()\n",
    "\n",
    "# we want to add dendrite type as a column to the ephys. features dataframe\n",
    "# first build an index on cell specimen ID, then create array of dendrite types\n",
    "cell_index = { c['id']: c for c in cells }\n",
    "\n",
    "dendrite_types = []\n",
    "list_index = []\n",
    "\n",
    "for cid in ef_df['specimen_id']:\n",
    "    if cid in cell_index:\n",
    "        dendrite_types.append(cell_index[cid]['dendrite_type'])\n",
    "        list_index.append(ef_df.index[ef_df['specimen_id']==cid].tolist())\n",
    "        \n",
    "index_list = []\n",
    "for sublist in list_index:\n",
    "    for item in sublist:\n",
    "        index_list.append(item)\n",
    "        \n",
    "# now add the new column\n",
    "ef_df['dendrite_type'] = pd.Series(dendrite_types, index=index_list)\n",
    "\n",
    "for d_type, color in [ [\"spiny\", \"#d95f02\"], [\"aspiny\", \"#7570b3\"] ]:\n",
    "    df = ef_df[ef_df['dendrite_type'] == d_type]\n",
    "    plt.scatter(df['fast_trough_v_long_square'], \n",
    "                df['upstroke_downstroke_ratio_long_square'], \n",
    "                color=color, label=d_type)\n",
    "    plt.ylabel(\"upstroke-downstroke ratio\")\n",
    "    plt.xlabel(\"fast trough depth (mV)\")\n",
    "    plt.legend(loc='best')\n",
    "    \n",
    "plt.show()"
   ]
  },
  {
   "cell_type": "markdown",
   "metadata": {},
   "source": [
    "Looks like these two clusters do partially relate to the dendritic type. Cells with spiny dendrites (which are typically excitatory cells) have a big ratio of upstroke:downstroke, and a more shallow trough (less negative). Cells with aspiny dendrites (typically inhibitory cells) are a little bit more varied. But </i>only</i> aspiny cells have a low upstroke:downstroke ratio and a deeper trough (more negative).\n",
    "\n",
    "Let's take a closer look at the action potentials of these cells to see what these metrics actually mean for the action potential waveform by choosing one of the cells with the highest upstroke:downstroke ratio."
   ]
  },
  {
   "cell_type": "code",
   "execution_count": 46,
   "metadata": {},
   "outputs": [
    {
     "name": "stdout",
     "output_type": "stream",
     "text": [
      "485048967\n",
      "0.8627261095128709\n"
     ]
    }
   ],
   "source": [
    "ef_df_upstroke_sorted = ef_df.sort_values('upstroke_downstroke_ratio_long_square',ascending=True)\n",
    "top_cell = ef_df_upstroke_sorted.iloc[0]\n",
    "print(top_cell['specimen_id'])\n",
    "print(top_cell['upstroke_downstroke_ratio_long_square'])"
   ]
  },
  {
   "cell_type": "markdown",
   "metadata": {},
   "source": [
    "Now we can take a closer look at the action potential for that cell by grabbing its electrophysiology data, just like we did above. Let's find a good sweep that will show us some nice action potentials. The next cell of code will look for sweep numbers with a Long Square stimulus of at least 100 pA. It'll print some sweep IDs."
   ]
  },
  {
   "cell_type": "code",
   "execution_count": 47,
   "metadata": {},
   "outputs": [
    {
     "name": "stderr",
     "output_type": "stream",
     "text": [
      "2020-04-17 16:13:36,592 allensdk.api.api.retrieve_file_over_http INFO     Downloading URL: http://api.brain-map.org/api/v2/well_known_file_download/496605759\n"
     ]
    },
    {
     "name": "stdout",
     "output_type": "stream",
     "text": [
      "40\n",
      "41\n",
      "42\n",
      "43\n",
      "44\n",
      "45\n",
      "46\n",
      "47\n",
      "48\n",
      "49\n",
      "50\n",
      "51\n",
      "52\n",
      "53\n",
      "54\n",
      "55\n",
      "56\n",
      "58\n",
      "60\n",
      "61\n",
      "62\n",
      "63\n",
      "64\n",
      "65\n",
      "66\n",
      "67\n",
      "68\n",
      "69\n",
      "70\n",
      "71\n",
      "72\n",
      "73\n",
      "74\n",
      "75\n",
      "76\n",
      "77\n"
     ]
    }
   ],
   "source": [
    "upstroke_data = ctc.get_ephys_data(top_cell['specimen_id'])\n",
    "sweepIDs = upstroke_data.get_sweep_numbers()\n",
    "sweepNum = len(sweepIDs)\n",
    "for i in range(1,sweepNum):\n",
    "    sweepMeta = upstroke_data.get_sweep_metadata(sweepIDs[i])\n",
    "    if sweepMeta['aibs_stimulus_name'] == 'Long Square':\n",
    "        if sweepMeta['aibs_stimulus_amplitude_pa'] >100:\n",
    "            # print(sweepMeta)\n",
    "            print(sweepIDs[i])"
   ]
  },
  {
   "cell_type": "markdown",
   "metadata": {},
   "source": [
    "<div class=\"alert alert-success\"><b>Task</b>: Enter one of these sweep IDs in the next cell where it says \"upstroke_sweep_id\".</div>"
   ]
  },
  {
   "cell_type": "code",
   "execution_count": 37,
   "metadata": {},
   "outputs": [],
   "source": [
    "import numpy as np\n",
    "\n",
    "# choose a sweep number to plot\n",
    "upstroke_sweep_id = 40\n",
    "upstroke_sweep = upstroke_data.get_sweep(upstroke_sweep_id) \n",
    "\n",
    "index_range = upstroke_sweep[\"index_range\"]\n",
    "voltage = upstroke_sweep[\"response\"][0:index_range[1]+1] * 1e3 # in V\n",
    "\n",
    "sampling_rate = upstroke_sweep[\"sampling_rate\"] # in Hz\n",
    "time_stamps = (np.arange(0, len(v)) * (1.0 / sampling_rate))"
   ]
  },
  {
   "cell_type": "markdown",
   "metadata": {},
   "source": [
    "And now let's plot our sweep. You may need to change some values in the plotting script to actually zoom in on the action potential, or change the sweep number to one where you can see an action potential.\n",
    "\n",
    "<div class=\"alert alert-success\"><b>Task</b>: Modify the plotting script so that you can actually see the shape of the action potential.</div>"
   ]
  },
  {
   "cell_type": "code",
   "execution_count": 38,
   "metadata": {},
   "outputs": [
    {
     "data": {
      "image/png": "[encoded data removed]",
      "text/plain": [
       "<Figure size 432x288 with 1 Axes>"
      ]
     },
     "metadata": {
      "needs_background": "light"
     },
     "output_type": "display_data"
    }
   ],
   "source": [
    "plt.plot(time_stamps,voltage)\n",
    "plt.xlim([1.1,1.4])\n",
    "plt.show()"
   ]
  },
  {
   "cell_type": "markdown",
   "metadata": {},
   "source": [
    "Let's do the same thing for a cell with a low upstroke ratio and compare. Similiar to above, zoom in on the x axis so that you can actually see the shape of the waveform. Do this for **Q8** on the assignment."
   ]
  },
  {
   "cell_type": "markdown",
   "metadata": {},
   "source": [
    "As you'll hopefully see, even that one metric, upstroke:downstroke ratio, means the shape of the action potential is dramatically different. The other metric above, size of the trough, is highly correlated with upstroke:downstroke. You can see that by comparing the two cells here. Cells with high upstroke:downstroke tend to have less negative troughs (undershoots) after the action potential."
   ]
  },
  {
   "cell_type": "markdown",
   "metadata": {},
   "source": [
    "<a id=\"five\"></a>\n",
    "\n",
    "## Step 5. Comparing human to mouse cells\n",
    "Let's get out of the action potential weeds a bit. What if we want to know a big picture thing, such as <b>are human cells different than mouse cells?</b>\n",
    "    \n",
    "We can make similar plots to above but subselected for human and mouse cells. First, let's get an idea of how many cells of each type are here."
   ]
  },
  {
   "cell_type": "code",
   "execution_count": null,
   "metadata": {
    "scrolled": false
   },
   "outputs": [],
   "source": [
    "from allensdk.api.queries.cell_types_api import CellTypesApi\n",
    "\n",
    "# download all cells\n",
    "cells = ctc.get_cells()\n",
    "print(\"Total cells: %d\" % len(cells))\n",
    "# mouse cells\n",
    "cells = ctc.get_cells(species=[CellTypesApi.MOUSE])\n",
    "print(\"Mouse cells: %d\" % len(cells))\n",
    "# human cells\n",
    "cells = ctc.get_cells(species=[CellTypesApi.HUMAN])\n",
    "print(\"Human cells: %d\" % len(cells))"
   ]
  },
  {
   "cell_type": "markdown",
   "metadata": {},
   "source": [
    "Let's now get all of the electrophysiology data for the mouse and human cells, separately."
   ]
  },
  {
   "cell_type": "code",
   "execution_count": null,
   "metadata": {},
   "outputs": [],
   "source": [
    "# make a dataframe out of ephys features\n",
    "ephys_features_df = pd.DataFrame.from_records(ephys_features)\n",
    "ephys_features_df.head(1)\n",
    "\n",
    "# grab mouse data and merge with dataframe\n",
    "mouse_df = pd.DataFrame(ctc.get_cells(species=[CellTypesApi.MOUSE]))\n",
    "mouse_ephys_df = pd.merge(mouse_df,ephys_features_df,left_on='id',right_on='specimen_id',how='left')\n",
    "\n",
    "# grab human data and merge with dataframe\n",
    "human_df = pd.DataFrame(ctc.get_cells(species=[CellTypesApi.HUMAN]))\n",
    "human_ephys_df = pd.merge(human_df,ephys_features_df,left_on='id',right_on='specimen_id',how='left')\n",
    "\n",
    "print('Dataframes created.')"
   ]
  },
  {
   "cell_type": "markdown",
   "metadata": {},
   "source": [
    "Let's look at the first five rows of our mouse and human datasets here.\n",
    "\n",
    "<div class=\"alert alert-success\"><b>Task</b>: Show the first few rows of the table by using brackets after the variable name. Look above to see which variable your merged dataframe is saved as (hint: it's the variable assigned in the line where <code>pd.merge</code> is used). Then, you'll you want to enter <code>variable_name[1:5]</code>. Do this for the mouse data in the first cell below, and human data in the second. Scroll to the right within the table to see all of the available parameters for the cell.</div>"
   ]
  },
  {
   "cell_type": "code",
   "execution_count": null,
   "metadata": {},
   "outputs": [],
   "source": []
  },
  {
   "cell_type": "code",
   "execution_count": null,
   "metadata": {
    "scrolled": true
   },
   "outputs": [],
   "source": []
  },
  {
   "cell_type": "markdown",
   "metadata": {},
   "source": [
    "Let's start by plotting the resting membrane potential for all of our human cells vs all of our mouse cells."
   ]
  },
  {
   "cell_type": "code",
   "execution_count": null,
   "metadata": {},
   "outputs": [],
   "source": [
    "plt.figure()\n",
    "\n",
    "# Change your parameter below. Make sure this matches the names in the list you generated above!\n",
    "parameter = 'vrest'\n",
    "\n",
    "# Below it is set to plot resting membrane potential 'vrest'.\n",
    "# That's where you can change what is being plotted.\n",
    "# Make sure you change it for both the mouse and human plot!\n",
    "plt.hist([mouse_ephys_df[parameter],human_ephys_df[parameter]],color=[(0, .5,.5, 0.5),(0, 0, 1, 0.5)])\n",
    "\n",
    "# this is where you should change the label:\n",
    "plt.xlabel('Resting Membrane Potential (mV)')\n",
    "plt.ylabel('Number of Cells')\n",
    "plt.legend(['mouse','human'])\n",
    "plt.show()"
   ]
  },
  {
   "cell_type": "markdown",
   "metadata": {},
   "source": [
    "<div class=\"alert alert-success\"> <b>Task</b>: Choose a different parameter to compare between human and mouse cells, and rerun the plot above. Use the documentation below to get the exact name of the parameter (in parentheses), and change the x label axis so that we know what you're plotting.\n",
    "\n",
    "Save your figure by right clicking on the image above. You'll need to submit this with the assignment.</div>\n",
    "\n",
    "Here are a few additional metrics you might consider comparing:\n",
    "\n",
    "<div style=\"background: #F3D48D; border-radius: 3px; padding: 10px;\">\n",
    "    <b>Action potential fast trough (fast_trough_v_long_square)</b>: Minimum value of the membrane potential in the interval lasting 5 ms after the peak.\n",
    "    <b>Upstroke/downstroke ratio (upstroke_downstroke_ratio_long_square)</b>: The ratio between the absolute values of the action potential peak upstroke and the action potential peak downstroke.\n",
    "    <b>Adapation ratio (adaptation)</b>: The rate at which firing speeds up or slows down during a stimulus<br>\n",
    "    <b>Average ISI (avg_isi)</b>: The mean value of all interspike intervals in a sweep.<br>\n",
    "    <b>Voltage of after-hyperpolarization (trough_v_short_square)</b>: minimum value of the membrane potential during the after-hyperpolarization</div>\n",
    "    \n",
    "\n",
    "### Subselect for spiny or aspiny cells.\n",
    "Final step for today! The histogram above is for <i>all cell types</i>, which is a really hetergenous bunch.\n",
    "\n",
    "What happens if we subselect our human and mouse cells to be just spiny, or just aspiny? Will those types be more different in humans and mice?\n",
    "\n",
    "<div class=\"alert alert-success\"><b>Task</b>: Decide whether you want to look at spiny or aspiny cells by setting cell_type to either 'spiny' or 'aspiny' below. The value of your variable needs to be a <b>string</b> -- in other words, it should have quotes around it.</div>"
   ]
  },
  {
   "cell_type": "code",
   "execution_count": null,
   "metadata": {},
   "outputs": [],
   "source": [
    "cell_type =\n",
    "\n",
    "human = human_ephys_df[human_ephys_df['dendrite_type']== cell_type]\n",
    "mouse = mouse_ephys_df[mouse_ephys_df['dendrite_type']== cell_type]\n",
    "print(['Number of human' + cell_type + 'cells: %d' % len(human)])\n",
    "print(['Number of mouse' + cell_type + 'cells: %d' % len(mouse))\n",
    "\n",
    "# Change your parameter below.\n",
    "parameter = 'vrest'\n",
    "\n",
    "plt.hist([mouse[parameter],human[parameter]],color=[(0, .5,.5, 0.5),(0, 0, 1, 0.5)])\n",
    "plt.xlabel('Resting Membrane Potential (mV)')\n",
    "plt.ylabel('Number of Cells')\n",
    "plt.legend(['mouse','human'])\n",
    "\n",
    "#cells_concat = pd.concat([mouse[parameter],human[parameter]],axis=1)\n",
    "#cells_concat.columns = ['mouse','human']\n",
    "#cells_concat.boxplot()\n",
    "#plt.ylabel('Resting Membrane Potential (mv)')\n",
    "\n",
    "plt.show()"
   ]
  },
  {
   "cell_type": "markdown",
   "metadata": {},
   "source": [
    "<div class=\"alert alert-success\"><b>Task</b>: It's a little hard to see differences here, so let's plot it as a boxplot. <b>Comment</b> out the lines for the histogram (add a <code>#</code> and <b><i>uncomment</b></i> the four lines below. Re-run the code to get a boxplot of the data.\n",
    "\n",
    "Change the metric here to whatever metric you created and saved a histogram for above. Save your image when you're done.\n",
    "\n",
    "Submit both of your images along with your answers to the worksheet.\n",
    "</div>"
   ]
  },
  {
   "cell_type": "code",
   "execution_count": null,
   "metadata": {},
   "outputs": [],
   "source": [
    "from IPython.display import HTML\n",
    "print('Nice work!')\n",
    "HTML('<img src=\"https://media.giphy.com/media/xUOwGhOrYP0jP6iAy4/giphy.gif\">')"
   ]
  },
  {
   "cell_type": "markdown",
   "metadata": {},
   "source": [
    "-----------\n",
    "\n",
    "#### Technical notes & credits\n",
    "\n",
    "This notebook demonstrates most of the features of the AllenSDK that help manipulate data in the Cell Types Database.  The main entry point will be through the `CellTypesCache` class. `CellTypesCache` is responsible for downloading Cell Types Database data to a standard directory structure on your hard drive.  If you use this class, you will not have to keep track of where your data lives, other than a root directory.\n",
    "\n",
    "Much more information can be found in the <a href=\"http://help.brain-map.org/download/attachments/8323525/CellTypes_Ephys_Overview.pdf\">Allen Brain Atlas whitepaper</a> as well as in their <a href=\"http://alleninstitute.github.io/AllenSDK/cell_types.html\">GitHub documentation</a>.\n",
    "\n",
    "This file modified from <a href='https://alleninstitute.github.io/AllenSDK/_static/examples/nb/cell_types.html'>this</a> notebook.\n",
    "\n",
    "In case you're curious, <a href=\"https://pandas.pydata.org/pandas-docs/stable/reference/api/pandas.Series.plot.html \">here's documentation</a> for plotting pandas series (which we do quite a bit above). You can always Google questions you have!)"
   ]
  }
 ],
 "metadata": {
  "kernelspec": {
   "display_name": "Python 3",
   "language": "python",
   "name": "python3"
  },
  "language_info": {
   "codemirror_mode": {
    "name": "ipython",
    "version": 3
   },
   "file_extension": ".py",
   "mimetype": "text/x-python",
   "name": "python",
   "nbconvert_exporter": "python",
   "pygments_lexer": "ipython3",
   "version": "3.6.7"
  }
 },
 "nbformat": 4,
 "nbformat_minor": 1
}
